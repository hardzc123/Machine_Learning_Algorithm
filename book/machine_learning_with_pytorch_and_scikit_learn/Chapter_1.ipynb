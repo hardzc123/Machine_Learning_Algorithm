{
  "nbformat": 4,
  "nbformat_minor": 0,
  "metadata": {
    "colab": {
      "private_outputs": true,
      "provenance": []
    },
    "kernelspec": {
      "name": "python3",
      "display_name": "Python 3"
    },
    "language_info": {
      "name": "python"
    }
  },
  "cells": [
    {
      "cell_type": "markdown",
      "source": [
        "\n",
        "instead of requiring humans to manually derive rules and build models from analyzing large amounts of data, machine learning offers a more efficient alternative for capturing the knowledge in data to gradually improve the performance of predictive models and make data-driven decisions\n",
        "\n",
        "\n",
        "- Supervised Learning: labeled data, direct feedback, predict outcome\n",
        "- unsupervised learning: no label / targets, no feedback, find hidden structure in data\n",
        "- reinforcement learning:  decision process, reward system, learn series of actions\n",
        "\n",
        "\n",
        "Supervised Learning:\n",
        "- Classification for predicting class labels,\n",
        "- Regression for predicting continuous outcomes\n",
        "\n",
        "\n",
        "Unsupervised Learning:\n",
        "- Clustering for finding subgroups\n",
        "- Dimensionality reduction for data compression\n",
        "\n",
        "Reinforcement Learning:\n",
        "\n",
        "\n"
      ],
      "metadata": {
        "id": "AjkCxgsuozwZ"
      }
    },
    {
      "cell_type": "markdown",
      "source": [
        "Example Iris dataset:\n",
        "150 * 4\n",
        "\n",
        "150 data, each data has 4 features"
      ],
      "metadata": {
        "id": "5bx29ME9q7_r"
      }
    },
    {
      "cell_type": "markdown",
      "source": [
        "# Machine Learning Terminology:\n",
        "https://developers.google.com/machine-learning/glossary\n",
        "1. Training Example:\n",
        "2. Training:\n",
        "3. Feature\n",
        "4. Target\n",
        "5. Loss Function\n",
        "\n",
        "# Roadmap for building machine learning system\n",
        "Raw data collection -> dataset -> training dataset and test dataset(why?) -> processed training dataset(why?) -> machine learning algorithm -> predictice model candidate -> cross-validation -> hyperparameter optimization techniques -> final predictive model -> apply to new dataset + final preprocessing pipelines\n",
        "\n"
      ],
      "metadata": {
        "id": "-P22sX0hs7FN"
      }
    },
    {
      "cell_type": "code",
      "execution_count": null,
      "metadata": {
        "id": "lnkIsSTMn8Dn"
      },
      "outputs": [],
      "source": []
    },
    {
      "cell_type": "markdown",
      "source": [],
      "metadata": {
        "id": "iABL8PHvozIw"
      }
    },
    {
      "cell_type": "markdown",
      "source": [],
      "metadata": {
        "id": "mEZO5L4obsR2"
      }
    },
    {
      "cell_type": "code",
      "source": [],
      "metadata": {
        "id": "HMbpUuLCbt7-"
      },
      "execution_count": null,
      "outputs": []
    },
    {
      "cell_type": "markdown",
      "source": [],
      "metadata": {
        "id": "K7Eoq9gHoTGY"
      }
    }
  ]
}